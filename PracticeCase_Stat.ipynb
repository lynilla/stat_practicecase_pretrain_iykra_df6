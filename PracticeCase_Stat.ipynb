{
  "nbformat": 4,
  "nbformat_minor": 0,
  "metadata": {
    "colab": {
      "name": "PracticeCase_Stat.ipynb",
      "provenance": [],
      "collapsed_sections": []
    },
    "kernelspec": {
      "name": "python3",
      "display_name": "Python 3"
    },
    "language_info": {
      "name": "python"
    }
  },
  "cells": [
    {
      "cell_type": "markdown",
      "metadata": {
        "id": "PRIgqrmmLlkI"
      },
      "source": [
        "#Practice Case_Statistics \n",
        "(by: Stella Linda Cyrilla)"
      ]
    },
    {
      "cell_type": "markdown",
      "metadata": {
        "id": "lDUjkEnwMBrP"
      },
      "source": [
        "## Import Libraries Needed"
      ]
    },
    {
      "cell_type": "code",
      "metadata": {
        "id": "5Yz0r99jMF9G"
      },
      "source": [
        "import pandas as pd"
      ],
      "execution_count": 62,
      "outputs": []
    },
    {
      "cell_type": "markdown",
      "metadata": {
        "id": "n1wuiTN0L3yD"
      },
      "source": [
        "## Load The CSV from URL"
      ]
    },
    {
      "cell_type": "code",
      "metadata": {
        "colab": {
          "base_uri": "https://localhost:8080/"
        },
        "id": "9WPfeKeSLfaG",
        "outputId": "e5cb1676-c386-44c8-cffd-01e0a4df42b7"
      },
      "source": [
        "#pd. set_option(\"display.max_rows\", None) #displaying all csv rows\n",
        "pd.set_option(\"display.max_columns\", None) #displaying all columns\n",
        "\n",
        "#URL source of csv file\n",
        "url=\"https://raw.githubusercontent.com/Syukrondzeko/Fellowship/main/Seasons_Stats.csv\"\n",
        "\n",
        "#download the csv file from URL, create the dataframe, and remove the existing index\n",
        "df=pd.read_csv(url, sep=',')\n",
        "df=df.iloc[:, 1:]\n",
        "\n",
        "print(df.columns) #to know all the columns title\n",
        "print(df.shape) #to know number of rows & columns"
      ],
      "execution_count": 142,
      "outputs": [
        {
          "output_type": "stream",
          "text": [
            "Index(['Year', 'Player', 'Pos', 'Age', 'Tm', 'G', 'GS', 'MP', 'PER', 'TS%',\n",
            "       '3PAr', 'FTr', 'ORB%', 'DRB%', 'TRB%', 'AST%', 'STL%', 'BLK%', 'TOV%',\n",
            "       'USG%', 'blanl', 'OWS', 'DWS', 'WS', 'WS/48', 'blank2', 'OBPM', 'DBPM',\n",
            "       'BPM', 'VORP', 'FG', 'FGA', 'FG%', '3P', '3PA', '3P%', '2P', '2PA',\n",
            "       '2P%', 'eFG%', 'FT', 'FTA', 'FT%', 'ORB', 'DRB', 'TRB', 'AST', 'STL',\n",
            "       'BLK', 'TOV', 'PF', 'PTS'],\n",
            "      dtype='object')\n",
            "(24691, 52)\n"
          ],
          "name": "stdout"
        }
      ]
    },
    {
      "cell_type": "markdown",
      "metadata": {
        "id": "HpX3pDW_QwSy"
      },
      "source": [
        "## Data Preprocessing"
      ]
    },
    {
      "cell_type": "code",
      "metadata": {
        "colab": {
          "base_uri": "https://localhost:8080/"
        },
        "id": "ryEwPXEiTp4S",
        "outputId": "48dada86-d5eb-49a6-8999-3686ecc1ebb1"
      },
      "source": [
        "#data Preprocessing\n",
        "df=df.dropna(how='all',axis=1) #delete columns with all NaN values\n",
        "\n",
        "# #get only data in 2017\n",
        "df=df.loc[df['Year'] == 2017]\n",
        "\n",
        "#check columns that still contains Nan value\n",
        "df.columns[df.isna().any()].tolist()\n",
        "\n",
        "#replace NaN value based on last players' stat (for players with duplicate data)\n",
        "df = df.fillna(df.groupby('Player').ffill())\n",
        "\n",
        "#removes duplicates data and keep the last/lowermost data (for players that have duplicates)\n",
        "df=df.drop_duplicates(subset=['Player'],keep='last').reset_index()\n",
        "\n",
        "print(df.shape)"
      ],
      "execution_count": 143,
      "outputs": [
        {
          "output_type": "stream",
          "text": [
            "(486, 51)\n"
          ],
          "name": "stdout"
        }
      ]
    },
    {
      "cell_type": "markdown",
      "metadata": {
        "id": "PsP55vqDa5--"
      },
      "source": [
        "### 1.Youngest and oldest player in the NBA in 2017 for each team (Tm) "
      ]
    },
    {
      "cell_type": "code",
      "metadata": {
        "colab": {
          "base_uri": "https://localhost:8080/"
        },
        "id": "eflvT_74bX5g",
        "outputId": "3da8521a-b1b6-4634-f330-8eaeb90ad8db"
      },
      "source": [
        "#youngest means min age for each team, while oldest: max age for each team\n",
        "\n",
        "#find the youngest player for each team\n",
        "youngest_idx=list(df.groupby('Tm' )['Age'].idxmin())\n",
        "ans_1_y=df.iloc[youngest_idx].loc[:, ['Tm','Player','Age']].to_string(index=False)\n",
        "print(\"Youngest Player for Each Team:\")\n",
        "print(ans_1_y)\n",
        "\n",
        "#find the oldest player for each team\n",
        "oldest_idx=list(df.groupby('Tm' )['Age'].idxmax())\n",
        "ans_1_o=df.iloc[oldest_idx].loc[:, ['Tm','Player','Age']].to_string(index=False)\n",
        "print(\"\\n\\nOldest Player for Each Team:\")\n",
        "print(ans_1_o)"
      ],
      "execution_count": 144,
      "outputs": [
        {
          "output_type": "stream",
          "text": [
            "Youngest Player for Each Team:\n",
            "  Tm                   Player   Age\n",
            " ATL          DeAndre' Bembry  22.0\n",
            " BOS             Jaylen Brown  20.0\n",
            " BRK         Isaiah Whitehead  21.0\n",
            " CHI             Bobby Portis  21.0\n",
            " CHO           Christian Wood  21.0\n",
            " CLE               Kay Felder  21.0\n",
            " DAL               Ben Bentil  21.0\n",
            " DEN             Jamal Murray  19.0\n",
            " DET           Henry Ellenson  20.0\n",
            " GSW             Kevon Looney  20.0\n",
            " HOU           Chinanu Onuaku  20.0\n",
            " IND             Myles Turner  20.0\n",
            " LAC            Diamond Stone  19.0\n",
            " LAL           Brandon Ingram  19.0\n",
            " MEM             Wade Baldwin  20.0\n",
            " MIA          Justise Winslow  20.0\n",
            " MIL               Thon Maker  19.0\n",
            " MIN               Tyus Jones  20.0\n",
            " NOP            Cheick Diallo  20.0\n",
            " NYK       Kristaps Porzingis  21.0\n",
            " OKC         Domantas Sabonis  20.0\n",
            " ORL        Stephen Zimmerman  20.0\n",
            " PHI  Timothe Luwawu-Cabarrot  21.0\n",
            " PHO            Dragan Bender  19.0\n",
            " POR              Noah Vonleh  21.0\n",
            " SAC     Georgios Papagiannis  19.0\n",
            " SAS          Dejounte Murray  20.0\n",
            " TOR            Bruno Caboclo  21.0\n",
            " UTA               Dante Exum  21.0\n",
            " WAS         Chris McCullough  21.0\n",
            "\n",
            "\n",
            "Oldest Player for Each Team:\n",
            "  Tm           Player   Age\n",
            " ATL    Mike Dunleavy  36.0\n",
            " BOS     Gerald Green  31.0\n",
            " BRK       Luis Scola  36.0\n",
            " CHI      Dwyane Wade  35.0\n",
            " CHO    Brian Roberts  31.0\n",
            " CLE   Chris Andersen  38.0\n",
            " DAL    Dirk Nowitzki  38.0\n",
            " DEN      Mike Miller  36.0\n",
            " DET       Beno Udrih  34.0\n",
            " GSW      Matt Barnes  36.0\n",
            " HOU     Nene Hilario  34.0\n",
            " IND     Aaron Brooks  32.0\n",
            " LAC      Paul Pierce  39.0\n",
            " LAL      Metta World  37.0\n",
            " MEM     Vince Carter  40.0\n",
            " MIA    Udonis Haslem  36.0\n",
            " MIL      Jason Terry  39.0\n",
            " MIN       John Lucas  34.0\n",
            " NOP     Jarrett Jack  33.0\n",
            " NYK  Carmelo Anthony  32.0\n",
            " OKC    Nick Collison  36.0\n",
            " ORL      C.J. Watson  32.0\n",
            " PHI   Tiago Splitter  32.0\n",
            " PHO  Leandro Barbosa  34.0\n",
            " POR      Evan Turner  28.0\n",
            " SAC    Arron Afflalo  31.0\n",
            " SAS    Manu Ginobili  39.0\n",
            " TOR      P.J. Tucker  31.0\n",
            " UTA      Joe Johnson  35.0\n",
            " WAS    Marcin Gortat  32.0\n"
          ],
          "name": "stdout"
        }
      ]
    },
    {
      "cell_type": "markdown",
      "metadata": {
        "id": "jWycqMxgPT1o"
      },
      "source": [
        "###2.Player with the most minutes played (MP) in each position (Pos)"
      ]
    },
    {
      "cell_type": "code",
      "metadata": {
        "colab": {
          "base_uri": "https://localhost:8080/"
        },
        "id": "WOzI3hQ2Pa53",
        "outputId": "ba56def0-4291-4a79-d665-dbafdb5ed711"
      },
      "source": [
        "#For the most MP, we'll find Players with max value of MP for each Pos\n",
        "mp_idx=list(df.groupby('Pos')['MP'].idxmax())\n",
        "ans_2=df.iloc[mp_idx].loc[:, ['Pos','Player','MP']].to_string(index=False)\n",
        "print(\"Player with the most MP (for each position):\\n\")\n",
        "print(ans_2)"
      ],
      "execution_count": 146,
      "outputs": [
        {
          "output_type": "stream",
          "text": [
            "Player with the most MP (for each position):\n",
            "\n",
            "Pos              Player      MP\n",
            "  C  Karl-Anthony Towns  3030.0\n",
            " PF     Harrison Barnes  2803.0\n",
            " PG        James Harden  2947.0\n",
            " SF      Andrew Wiggins  3048.0\n",
            " SG       C.J. McCollum  2796.0\n"
          ],
          "name": "stdout"
        }
      ]
    },
    {
      "cell_type": "markdown",
      "metadata": {
        "id": "Z-BeACueQ8X2"
      },
      "source": [
        "###3.Team that has the highest average total rebound percentage (TRB%), assist percentage (AST%), steal percentage (STL%), and block percentage (BLK%) "
      ]
    },
    {
      "cell_type": "code",
      "metadata": {
        "colab": {
          "base_uri": "https://localhost:8080/"
        },
        "id": "TM_aJNecREs5",
        "outputId": "77924961-3971-4a9d-ca34-341761819967"
      },
      "source": [
        "#Calculate average TRB% for each team\n",
        "trb=df.groupby(['Tm'] , as_index=False)['TRB%'].mean()\n",
        "#Sort Team based on the highest avg TRB%\n",
        "trb=trb.sort_values(by=['TRB%'],ascending=False).reset_index(drop=True)\n",
        "\n",
        "#Calculate average AST% for each team\n",
        "ast=df.groupby(['Tm'] , as_index=False)['AST%'].mean()\n",
        "#Sort Team based on the highest avg TRB%\n",
        "ast=ast.sort_values(by=['AST%'],ascending=False).reset_index(drop=True)\n",
        "\n",
        "#Calculate average STL% for each team\n",
        "stl=df.groupby(['Tm'] , as_index=False)['STL%'].mean()\n",
        "#Sort Team based on the highest avg TRB%\n",
        "stl=stl.sort_values(by=['STL%'],ascending=False).reset_index(drop=True)\n",
        "\n",
        "#Calculate average BLK% for each team\n",
        "blk=df.groupby(['Tm'] , as_index=False)['BLK%'].mean()\n",
        "#Sort Team based on the highest avg TRB%\n",
        "blk=blk.sort_values(by=['BLK%'],ascending=False).reset_index(drop=True)\n",
        "\n",
        "#show the team with the highest avg of each TRB%, AST%, STL%, BLK%\n",
        "print(\"Team with the highest average value of TRB%:\\n\", trb.head(1),'\\n')\n",
        "print(\"Team with the highest average value of AST%:\\n\", ast.head(1),'\\n')\n",
        "print(\"Team with the highest average value of STL%:\\n\", stl.head(1),'\\n')\n",
        "print(\"Team with the highest average value of BLK%:\\n\", blk.head(1),'\\n')"
      ],
      "execution_count": 147,
      "outputs": [
        {
          "output_type": "stream",
          "text": [
            "Team with the highest average value of TRB%:\n",
            "     Tm       TRB%\n",
            "0  WAS  12.735294 \n",
            "\n",
            "Team with the highest average value of AST%:\n",
            "     Tm       AST%\n",
            "0  DEN  15.723529 \n",
            "\n",
            "Team with the highest average value of STL%:\n",
            "     Tm      STL%\n",
            "0  MIN  2.413333 \n",
            "\n",
            "Team with the highest average value of BLK%:\n",
            "     Tm      BLK%\n",
            "0  MIL  2.741176 \n",
            "\n"
          ],
          "name": "stdout"
        }
      ]
    },
    {
      "cell_type": "markdown",
      "metadata": {
        "id": "MJ2o7iYzkdLa"
      },
      "source": [
        "### 4.The best player based on his record stats"
      ]
    },
    {
      "cell_type": "code",
      "metadata": {
        "colab": {
          "base_uri": "https://localhost:8080/"
        },
        "id": "08-ibFe_q8Is",
        "outputId": "575c02a4-1428-4def-c463-d433bc089c59"
      },
      "source": [
        "#make a copied dataframe (df_new) so the original df doesn't change\n",
        "df_new = df.copy(deep=True)\n",
        "\n",
        "#make a new column named 'overall_stats' that consists avg value of PER, WS, FG, TRB, AST, STL, BLK, and PTS for each player\n",
        "df_new['overall_stats']=df_new[['PER','WS','FG','TRB','AST','STL','BLK','PTS']].mean(axis=1)\n",
        "\n",
        "#make a new dataframe which only contains the players' name and overall stats\n",
        "ans_4=df_new[['Player','overall_stats']]\n",
        "\n",
        "#sort Players based on the highest overall_stats\n",
        "ans_4=ans_4.sort_values(by=['overall_stats'],ascending=False).reset_index(drop=True)\n",
        "\n",
        "#Find the best player by showing the player with highest overall_stats\n",
        "print(\"The best player based on his record stats:\\n\", ans_4.head(1),'\\n')"
      ],
      "execution_count": 148,
      "outputs": [
        {
          "output_type": "stream",
          "text": [
            "The best player based on his record stats:\n",
            "               Player  overall_stats\n",
            "0  Russell Westbrook       661.7125 \n",
            "\n"
          ],
          "name": "stdout"
        }
      ]
    },
    {
      "cell_type": "markdown",
      "metadata": {
        "id": "rFO4Dz_wuAX5"
      },
      "source": [
        "### 5.Team has the best average stat record of their players"
      ]
    },
    {
      "cell_type": "code",
      "metadata": {
        "colab": {
          "base_uri": "https://localhost:8080/"
        },
        "id": "MECANFTVksos",
        "outputId": "3a7dec1d-db8b-4749-9f53-0dfa37454b68"
      },
      "source": [
        "#We'll use overall_stats column (like the no.4), but for the team condition, \n",
        "#we'll calculate the average of all players' overall_stats in each team\n",
        "\n",
        "#Find the team with the highest average of overall_stats\n",
        "ans_5=df_new.groupby(['Tm'] , as_index=False)['overall_stats'].mean()\n",
        "\n",
        "#sort df_new mean% values (descending)\n",
        "ans_5=ans_5.sort_values(by=['overall_stats'],ascending=False)\n",
        "\n",
        "#Find the team which has the best average stat record of their players\n",
        "print(\"Team with the best players' average stat record:\\n\", ans_5.head(1),'\\n')"
      ],
      "execution_count": 152,
      "outputs": [
        {
          "output_type": "stream",
          "text": [
            "Team with the best players' average stat record:\n",
            "     Tm  overall_stats\n",
            "9  GSW     162.413281 \n",
            "\n"
          ],
          "name": "stdout"
        }
      ]
    }
  ]
}